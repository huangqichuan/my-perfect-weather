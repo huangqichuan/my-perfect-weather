{
 "cells": [
  {
   "cell_type": "markdown",
   "metadata": {
    "collapsed": true
   },
   "source": [
    "##Read in latest weather forecast from Cloudant\n",
    "\n"
   ]
  },
  {
   "cell_type": "code",
   "execution_count": 1,
   "metadata": {
    "collapsed": true
   },
   "outputs": [],
   "source": [
    "val sqlContext = new org.apache.spark.sql.SQLContext(sc)\n",
    "import sqlContext.implicits._"
   ]
  },
  {
   "cell_type": "code",
   "execution_count": 20,
   "metadata": {
    "collapsed": false
   },
   "outputs": [
    {
     "name": "stdout",
     "output_type": "stream",
     "text": [
      "Use dbName=weather, indexName=null, jsonstore.rdd.partitions=5, jsonstore.rdd.maxInPartition=-1, jsonstore.rdd.minInPartition=10, jsonstore.rdd.requestTimeout=100000,jsonstore.rdd.concurrentSave=-1,jsonstore.rdd.bulkSize=1\n"
     ]
    },
    {
     "data": {
      "text/plain": [
       "[_id: string, _rev: string, airport: string, forecasts: array<struct<blurb:string,blurb_author:string,class:string,day:struct<accumulation_phrase:string,alt_daypart_name:string,clds:bigint,day_ind:string,daypart_name:string,fcst_valid:bigint,fcst_valid_local:string,golf_category:string,golf_index:bigint,hi:bigint,icon_code:bigint,icon_extd:bigint,long_daypart_name:string,narrative:string,num:bigint,phrase_12char:string,phrase_22char:string,phrase_32char:string,pop:bigint,pop_phrase:string,precip_type:string,qpf:double,qualifier:string,qualifier_code:string,rh:bigint,shortcast:string,snow_code:string,snow_phrase:string,snow_qpf:double,snow_range:string,subphrase_pt1:string,subphrase_pt2:string,subphrase_pt3:string,temp:bigint,temp_phrase:string,thunder_enum:bigint,thunde..."
      ]
     },
     "execution_count": 20,
     "metadata": {},
     "output_type": "execute_result"
    }
   ],
   "source": [
    "val df = sqlContext.read.format(\"com.cloudant.spark\").\n",
    "option(\"cloudant.host\",\"xxx\").\n",
    "option(\"cloudant.username\", \"xxx\").\n",
    "option(\"cloudant.password\",\"xxx\").\n",
    "load(\"weather\")\n",
    "\n",
    "df.cache"
   ]
  },
  {
   "cell_type": "code",
   "execution_count": 4,
   "metadata": {
    "collapsed": false
   },
   "outputs": [
    {
     "name": "stdout",
     "output_type": "stream",
     "text": [
      "root\n",
      " |-- _id: string (nullable = true)\n",
      " |-- _rev: string (nullable = true)\n",
      " |-- forecasts: array (nullable = true)\n",
      " |    |-- element: struct (containsNull = true)\n",
      " |    |    |-- blurb: string (nullable = true)\n",
      " |    |    |-- blurb_author: string (nullable = true)\n",
      " |    |    |-- class: string (nullable = true)\n",
      " |    |    |-- day: struct (nullable = true)\n",
      " |    |    |    |-- accumulation_phrase: string (nullable = true)\n",
      " |    |    |    |-- alt_daypart_name: string (nullable = true)\n",
      " |    |    |    |-- clds: long (nullable = true)\n",
      " |    |    |    |-- day_ind: string (nullable = true)\n",
      " |    |    |    |-- daypart_name: string (nullable = true)\n",
      " |    |    |    |-- fcst_valid: long (nullable = true)\n",
      " |    |    |    |-- fcst_valid_local: string (nullable = true)\n",
      " |    |    |    |-- golf_category: string (nullable = true)\n",
      " |    |    |    |-- golf_index: long (nullable = true)\n",
      " |    |    |    |-- hi: long (nullable = true)\n",
      " |    |    |    |-- icon_code: long (nullable = true)\n",
      " |    |    |    |-- icon_extd: long (nullable = true)\n",
      " |    |    |    |-- long_daypart_name: string (nullable = true)\n",
      " |    |    |    |-- narrative: string (nullable = true)\n",
      " |    |    |    |-- num: long (nullable = true)\n",
      " |    |    |    |-- phrase_12char: string (nullable = true)\n",
      " |    |    |    |-- phrase_22char: string (nullable = true)\n",
      " |    |    |    |-- phrase_32char: string (nullable = true)\n",
      " |    |    |    |-- pop: long (nullable = true)\n",
      " |    |    |    |-- pop_phrase: string (nullable = true)\n",
      " |    |    |    |-- precip_type: string (nullable = true)\n",
      " |    |    |    |-- qpf: double (nullable = true)\n",
      " |    |    |    |-- qualifier: string (nullable = true)\n",
      " |    |    |    |-- qualifier_code: string (nullable = true)\n",
      " |    |    |    |-- rh: long (nullable = true)\n",
      " |    |    |    |-- shortcast: string (nullable = true)\n",
      " |    |    |    |-- snow_code: string (nullable = true)\n",
      " |    |    |    |-- snow_phrase: string (nullable = true)\n",
      " |    |    |    |-- snow_qpf: double (nullable = true)\n",
      " |    |    |    |-- snow_range: string (nullable = true)\n",
      " |    |    |    |-- subphrase_pt1: string (nullable = true)\n",
      " |    |    |    |-- subphrase_pt2: string (nullable = true)\n",
      " |    |    |    |-- subphrase_pt3: string (nullable = true)\n",
      " |    |    |    |-- temp: long (nullable = true)\n",
      " |    |    |    |-- temp_phrase: string (nullable = true)\n",
      " |    |    |    |-- thunder_enum: long (nullable = true)\n",
      " |    |    |    |-- thunder_enum_phrase: string (nullable = true)\n",
      " |    |    |    |-- uv_desc: string (nullable = true)\n",
      " |    |    |    |-- uv_index: long (nullable = true)\n",
      " |    |    |    |-- uv_index_raw: double (nullable = true)\n",
      " |    |    |    |-- uv_warning: long (nullable = true)\n",
      " |    |    |    |-- vocal_key: string (nullable = true)\n",
      " |    |    |    |-- wc: long (nullable = true)\n",
      " |    |    |    |-- wdir: long (nullable = true)\n",
      " |    |    |    |-- wdir_cardinal: string (nullable = true)\n",
      " |    |    |    |-- wind_phrase: string (nullable = true)\n",
      " |    |    |    |-- wspd: long (nullable = true)\n",
      " |    |    |    |-- wxman: string (nullable = true)\n",
      " |    |    |-- dow: string (nullable = true)\n",
      " |    |    |-- expire_time_gmt: long (nullable = true)\n",
      " |    |    |-- fcst_valid: long (nullable = true)\n",
      " |    |    |-- fcst_valid_local: string (nullable = true)\n",
      " |    |    |-- lunar_phase: string (nullable = true)\n",
      " |    |    |-- lunar_phase_code: string (nullable = true)\n",
      " |    |    |-- lunar_phase_day: long (nullable = true)\n",
      " |    |    |-- max_temp: long (nullable = true)\n",
      " |    |    |-- min_temp: long (nullable = true)\n",
      " |    |    |-- moonrise: string (nullable = true)\n",
      " |    |    |-- moonset: string (nullable = true)\n",
      " |    |    |-- narrative: string (nullable = true)\n",
      " |    |    |-- night: struct (nullable = true)\n",
      " |    |    |    |-- accumulation_phrase: string (nullable = true)\n",
      " |    |    |    |-- alt_daypart_name: string (nullable = true)\n",
      " |    |    |    |-- clds: long (nullable = true)\n",
      " |    |    |    |-- day_ind: string (nullable = true)\n",
      " |    |    |    |-- daypart_name: string (nullable = true)\n",
      " |    |    |    |-- fcst_valid: long (nullable = true)\n",
      " |    |    |    |-- fcst_valid_local: string (nullable = true)\n",
      " |    |    |    |-- golf_category: string (nullable = true)\n",
      " |    |    |    |-- golf_index: string (nullable = true)\n",
      " |    |    |    |-- hi: long (nullable = true)\n",
      " |    |    |    |-- icon_code: long (nullable = true)\n",
      " |    |    |    |-- icon_extd: long (nullable = true)\n",
      " |    |    |    |-- long_daypart_name: string (nullable = true)\n",
      " |    |    |    |-- narrative: string (nullable = true)\n",
      " |    |    |    |-- num: long (nullable = true)\n",
      " |    |    |    |-- phrase_12char: string (nullable = true)\n",
      " |    |    |    |-- phrase_22char: string (nullable = true)\n",
      " |    |    |    |-- phrase_32char: string (nullable = true)\n",
      " |    |    |    |-- pop: long (nullable = true)\n",
      " |    |    |    |-- pop_phrase: string (nullable = true)\n",
      " |    |    |    |-- precip_type: string (nullable = true)\n",
      " |    |    |    |-- qpf: double (nullable = true)\n",
      " |    |    |    |-- qualifier: string (nullable = true)\n",
      " |    |    |    |-- qualifier_code: string (nullable = true)\n",
      " |    |    |    |-- rh: long (nullable = true)\n",
      " |    |    |    |-- shortcast: string (nullable = true)\n",
      " |    |    |    |-- snow_code: string (nullable = true)\n",
      " |    |    |    |-- snow_phrase: string (nullable = true)\n",
      " |    |    |    |-- snow_qpf: double (nullable = true)\n",
      " |    |    |    |-- snow_range: string (nullable = true)\n",
      " |    |    |    |-- subphrase_pt1: string (nullable = true)\n",
      " |    |    |    |-- subphrase_pt2: string (nullable = true)\n",
      " |    |    |    |-- subphrase_pt3: string (nullable = true)\n",
      " |    |    |    |-- temp: long (nullable = true)\n",
      " |    |    |    |-- temp_phrase: string (nullable = true)\n",
      " |    |    |    |-- thunder_enum: long (nullable = true)\n",
      " |    |    |    |-- thunder_enum_phrase: string (nullable = true)\n",
      " |    |    |    |-- uv_desc: string (nullable = true)\n",
      " |    |    |    |-- uv_index: long (nullable = true)\n",
      " |    |    |    |-- uv_index_raw: long (nullable = true)\n",
      " |    |    |    |-- uv_warning: long (nullable = true)\n",
      " |    |    |    |-- vocal_key: string (nullable = true)\n",
      " |    |    |    |-- wc: long (nullable = true)\n",
      " |    |    |    |-- wdir: long (nullable = true)\n",
      " |    |    |    |-- wdir_cardinal: string (nullable = true)\n",
      " |    |    |    |-- wind_phrase: string (nullable = true)\n",
      " |    |    |    |-- wspd: long (nullable = true)\n",
      " |    |    |    |-- wxman: string (nullable = true)\n",
      " |    |    |-- num: long (nullable = true)\n",
      " |    |    |-- qpf: double (nullable = true)\n",
      " |    |    |-- qualifier: string (nullable = true)\n",
      " |    |    |-- qualifier_code: string (nullable = true)\n",
      " |    |    |-- snow_code: string (nullable = true)\n",
      " |    |    |-- snow_phrase: string (nullable = true)\n",
      " |    |    |-- snow_qpf: double (nullable = true)\n",
      " |    |    |-- snow_range: string (nullable = true)\n",
      " |    |    |-- stormcon: string (nullable = true)\n",
      " |    |    |-- sunrise: string (nullable = true)\n",
      " |    |    |-- sunset: string (nullable = true)\n",
      " |    |    |-- torcon: string (nullable = true)\n",
      " |-- metadata: struct (nullable = true)\n",
      " |    |-- expire_time_gmt: long (nullable = true)\n",
      " |    |-- language: string (nullable = true)\n",
      " |    |-- latitude: double (nullable = true)\n",
      " |    |-- longitude: double (nullable = true)\n",
      " |    |-- status_code: long (nullable = true)\n",
      " |    |-- transaction_id: string (nullable = true)\n",
      " |    |-- units: string (nullable = true)\n",
      " |    |-- version: string (nullable = true)\n",
      "\n"
     ]
    }
   ],
   "source": [
    "df.printSchema()"
   ]
  },
  {
   "cell_type": "code",
   "execution_count": 3,
   "metadata": {
    "collapsed": false
   },
   "outputs": [
    {
     "name": "stdout",
     "output_type": "stream",
     "text": [
      "+----------+--------------------+--------------------+--------------------+\n",
      "|       _id|                _rev|           forecasts|            metadata|\n",
      "+----------+--------------------+--------------------+--------------------+\n",
      "| Amsterdam|1-08065c0d6139c3c...|List([null,null,f...|[1450300349,en-US...|\n",
      "|    Athens|1-104084cae4f985a...|List([null,null,f...|[1450300441,en-US...|\n",
      "| Barcelona|1-20b3a6e72edcba2...|List([null,null,f...|[1450300038,en-US...|\n",
      "|  Belgrade|1-1ab7dc68b695ed6...|List([null,null,f...|[1450300503,en-US...|\n",
      "|    Bergen|1-3d529ab9932aae5...|List([null,null,f...|[1450299367,en-US...|\n",
      "|    Berlin|1-c86342015754d4d...|List([null,null,f...|[1450299703,en-US...|\n",
      "|Bratislava|1-270a6691df02f71...|List([null,null,f...|[1450299512,en-US...|\n",
      "|  Brussels|1-8d9b7a564638239...|List([null,null,f...|[1450300780,en-US...|\n",
      "| Bucharest|1-e4beec7e45e0552...|List([null,null,f...|[1450300702,en-US...|\n",
      "|  Budapest|1-e06b369545e4d73...|List([null,null,f...|[1450300697,en-US...|\n",
      "|Copenhagen|1-6f5285680791e84...|List([null,null,f...|[1450299600,en-US...|\n",
      "|    Dublin|1-f824b4da5bba058...|List([null,null,f...|[1450299784,en-US...|\n",
      "| Dubrovnik|1-86017301e6695d4...|List([null,null,f...|[1450299860,en-US...|\n",
      "| Edinburgh|1-0a963e89a641abf...|List([null,null,f...|[1450299423,en-US...|\n",
      "|  Florence|1-2fe8efd2954b3ea...|List([null,null,f...|[1450299862,en-US...|\n",
      "|   Hamburg|1-1f74c492cbad6bc...|List([null,null,f...|[1450299863,en-US...|\n",
      "|  Helsinki|1-f5286403e3ad3f7...|List([null,null,f...|[1450300717,en-US...|\n",
      "|     Ibiza|1-bb9d59c33f02d7e...|List([null,null,f...|[1450299864,en-US...|\n",
      "|  Istanbul|1-dae3983cca0cf89...|List([null,null,f...|[1450299796,en-US...|\n",
      "|      Kiev|1-e16f067169ba759...|List([null,null,f...|[1450300315,en-US...|\n",
      "+----------+--------------------+--------------------+--------------------+\n",
      "\n"
     ]
    }
   ],
   "source": [
    "df.show"
   ]
  },
  {
   "cell_type": "markdown",
   "metadata": {
    "collapsed": false
   },
   "source": [
    "### Perform ETL on Weather Data"
   ]
  },
  {
   "cell_type": "code",
   "execution_count": 21,
   "metadata": {
    "collapsed": false
   },
   "outputs": [],
   "source": [
    "df.registerTempTable(\"weather\")"
   ]
  },
  {
   "cell_type": "code",
   "execution_count": 22,
   "metadata": {
    "collapsed": false
   },
   "outputs": [],
   "source": [
    "case class Weather(dow: String, fcst_valid_local: String, num: Long,\n",
    "                  max_temp: Long, min_temp: Long,\n",
    "                  hi: Long, wspd: Long, wdir_cardinal: String, icon_code: Long,\n",
    "                  precip_type: String, pop: Long, city: String, airport: String, _id: String) extends java.io.Serializable"
   ]
  },
  {
   "cell_type": "code",
   "execution_count": 23,
   "metadata": {
    "collapsed": false
   },
   "outputs": [],
   "source": [
    "val usefulWeatherData = sqlContext.sql(\"\"\"SELECT forecasts.dow, forecasts.fcst_valid_local, \n",
    "forecasts.num, forecasts.max_temp, forecasts.min_temp, forecasts.day.hi, \n",
    "forecasts.day.wspd, forecasts.day.wdir_cardinal, forecasts.day.icon_code, \n",
    "forecasts.day.precip_type, forecasts.day.pop, _id, airport FROM weather\"\"\")\n"
   ]
  },
  {
   "cell_type": "code",
   "execution_count": 24,
   "metadata": {
    "collapsed": false
   },
   "outputs": [
    {
     "name": "stdout",
     "output_type": "stream",
     "text": [
      "+--------------------+--------------------+--------------------+--------------------+--------------------+--------------------+--------------------+--------------------+--------------------+--------------------+--------------------+----------+-------+\n",
      "|                 dow|    fcst_valid_local|                 num|            max_temp|            min_temp|                  hi|                wspd|       wdir_cardinal|           icon_code|         precip_type|                 pop|       _id|airport|\n",
      "+--------------------+--------------------+--------------------+--------------------+--------------------+--------------------+--------------------+--------------------+--------------------+--------------------+--------------------+----------+-------+\n",
      "|List(Monday, Tues...|List(2015-12-21T0...|List(1, 2, 3, 4, ...|List(null, 15, 11...|List(9, 11, 7, 7,...|List(null, 15, 11...|List(null, 42, 34...|List(null, SW, WS...|List(null, 11, 24...|List(null, rain, ...|List(null, 90, 20...| Amsterdam|    AMS|\n",
      "|List(Monday, Tues...|List(2015-12-21T0...|List(1, 2, 3, 4, ...|List(null, 17, 18...|List(6, 8, 9, 8, ...|List(null, 16, 17...|List(null, 6, 11,...|List(null, NNW, N...|List(null, 32, 32...|List(null, rain, ...|List(null, 0, 0, ...|    Athens|    ATH|\n",
      "|List(Monday, Tues...|List(2015-12-21T0...|List(1, 2, 3, 4, ...|List(null, 16, 16...|List(9, 11, 10, 9...|List(null, 16, 16...|List(null, 17, 9,...|List(null, W, W, ...|List(null, 32, 30...|List(null, rain, ...|List(null, 10, 10...| Barcelona|    BCN|\n",
      "|List(Monday, Tues...|List(2015-12-21T0...|List(1, 2, 3, 4, ...|List(null, 10, 10...|List(1, 2, 2, 2, ...|List(null, 10, 10...|List(null, 7, 7, ...|List(null, SW, SS...|List(null, 32, 32...|List(null, rain, ...|List(null, 0, 0, ...|  Belgrade|    BEG|\n",
      "|List(Monday, Tues...|List(2015-12-21T0...|List(1, 2, 3, 4, ...|List(null, 9, 7, ...|List(6, 6, 6, 5, ...|List(null, 9, 7, ...|List(null, 35, 26...|List(null, S, SW,...|List(null, 12, 12...|List(null, rain, ...|List(null, 100, 1...|    Bergen|    BGO|\n",
      "|List(Monday, Tues...|List(2015-12-21T0...|List(1, 2, 3, 4, ...|List(null, 13, 13...|List(9, 10, 4, 7,...|List(null, 13, 13...|List(null, 23, 25...|List(null, SW, WS...|List(null, 11, 30...|List(null, rain, ...|List(null, 60, 10...|    Berlin|    BER|\n",
      "|List(Monday, Tues...|List(2015-12-21T0...|List(1, 2, 3, 4, ...|List(null, 10, 5,...|List(1, 1, 1, 2, ...|List(null, 10, 5,...|List(null, 12, 7,...|List(null, W, E, ...|List(null, 30, 20...|List(null, rain, ...|List(null, 0, 10,...|Bratislava|    BTS|\n",
      "|List(Monday, Tues...|List(2015-12-21T0...|List(1, 2, 3, 4, ...|List(null, 14, 12...|List(10, 11, 7, 6...|List(null, 14, 12...|List(null, 34, 24...|List(null, SSW, W...|List(null, 24, 30...|List(null, rain, ...|List(null, 20, 20...|  Brussels|    BRU|\n",
      "|List(Monday, Tues...|List(2015-12-21T0...|List(1, 2, 3, 4, ...|List(null, 12, 12...|List(1, 1, 4, 2, ...|List(null, 11, 11...|List(null, 12, 9,...|List(null, WSW, W...|List(null, 32, 32...|List(null, rain, ...|List(null, 0, 0, ...| Bucharest|    OTP|\n",
      "|List(Monday, Tues...|List(2015-12-21T0...|List(1, 2, 3, 4, ...|List(null, 10, 8,...|List(2, 2, 3, 3, ...|List(null, 10, 7,...|List(null, 10, 7,...|List(null, WSW, S...|List(null, 30, 20...|List(null, rain, ...|List(null, 0, 10,...|  Budapest|    BUD|\n",
      "|List(Monday, Tues...|List(2015-12-21T0...|List(1, 2, 3, 4, ...|List(null, 11, 11...|List(7, 10, 5, 6,...|List(null, 11, 11...|List(null, 29, 30...|List(null, SW, WS...|List(null, 11, 11...|List(null, rain, ...|List(null, 80, 60...|Copenhagen|    CPH|\n",
      "|List(Monday, Tues...|List(2015-12-21T0...|List(1, 2, 3, 4, ...|List(null, 13, 9,...|List(8, 5, 6, 4, ...|List(null, 13, 9,...|List(null, 34, 38...|List(null, SW, SS...|List(null, 12, 24...|List(null, rain, ...|List(null, 100, 1...|    Dublin|    DUB|\n",
      "|List(Monday, Tues...|List(2015-12-21T0...|List(1, 2, 3, 4, ...|List(null, 18, 19...|List(7, 7, 7, 7, ...|List(null, 17, 17...|List(null, 11, 8,...|List(null, NNW, N...|List(null, 32, 32...|List(null, rain, ...|List(null, 0, 0, ...| Dubrovnik|    DBV|\n",
      "|List(Monday, Tues...|List(2015-12-21T0...|List(1, 2, 3, 4, ...|List(null, 11, 7,...|List(6, 5, 6, 4, ...|List(null, 11, 7,...|List(null, 31, 39...|List(null, WSW, S...|List(null, 12, 24...|List(null, rain, ...|List(null, 100, 0...| Edinburgh|    EDI|\n",
      "|List(Monday, Tues...|List(2015-12-21T0...|List(1, 2, 3, 4, ...|List(null, 13, 12...|List(7, 8, 8, 8, ...|List(null, 13, 12...|List(null, 5, 6, ...|List(null, SSE, S...|List(null, 26, 20...|List(null, rain, ...|List(null, 20, 20...|  Florence|    FLR|\n",
      "|List(Monday, Tues...|List(2015-12-21T0...|List(1, 2, 3, 4, ...|List(null, 14, 13...|List(7, 12, 5, 6,...|List(null, 13, 13...|List(null, 32, 33...|List(null, SW, WS...|List(null, 12, 11...|List(null, rain, ...|List(null, 90, 50...|   Hamburg|    HAM|\n",
      "|List(Monday, Tues...|List(2015-12-21T0...|List(1, 2, 3, 4, ...|List(null, 6, 7, ...|List(5, 3, 4, 4, ...|List(null, 6, 7, ...|List(null, 28, 32...|List(null, W, WSW...|List(null, 30, 11...|List(null, rain, ...|List(null, 10, 60...|  Helsinki|    HEL|\n",
      "|List(Monday, Tues...|List(2015-12-21T0...|List(1, 2, 3, 4, ...|List(null, 18, 18...|List(11, 10, 10, ...|List(null, 18, 18...|List(null, 8, 9, ...|List(null, SE, ES...|List(null, 30, 34...|List(null, rain, ...|List(null, 10, 10...|     Ibiza|    IBZ|\n",
      "|List(Monday, Tues...|List(2015-12-21T0...|List(1, 2, 3, 4, ...|List(null, 12, 12...|List(6, 6, 5, 7, ...|List(null, 11, 11...|List(null, 10, 1,...|List(null, WSW, W...|List(null, 32, 30...|List(null, rain, ...|List(null, 0, 10,...|  Istanbul|    IST|\n",
      "|List(Monday, Tues...|List(2015-12-21T0...|List(1, 2, 3, 4, ...|List(null, 7, 10,...|List(4, 3, 5, -1,...|List(null, 7, 10,...|List(null, 29, 17...|List(null, W, WSW...|List(null, 11, 26...|List(null, rain, ...|List(null, 60, 20...|      Kiev|    KBP|\n",
      "+--------------------+--------------------+--------------------+--------------------+--------------------+--------------------+--------------------+--------------------+--------------------+--------------------+--------------------+----------+-------+\n",
      "\n"
     ]
    }
   ],
   "source": [
    "usefulWeatherData.show"
   ]
  },
  {
   "cell_type": "code",
   "execution_count": 33,
   "metadata": {
    "collapsed": false
   },
   "outputs": [],
   "source": [
    "val formatted = usefulWeatherData.flatMap(r => for {\n",
    "      x <- Range(1,11)\n",
    "      y = Weather(r.getList[String](0).get(x), r.getList[String](1).get(x).split(\"T\")(0),\n",
    "                 r.getList[Long](2).get(x), r.getList[Long](3).get(x),\n",
    "                 r.getList[Long](4).get(x), r.getList[Long](5).get(x), r.getList[Long](6).get(x),\n",
    "                 r.getList[String](7).get(x), r.getList[Long](8).get(x), r.getList[String](9).get(x),\n",
    "                 r.getList[Long](10).get(x), r.getString(11), \n",
    "                 r.getString(12), r.getString(11) + \"-\" + r.getList[Long](2).get(x))\n",
    "    } yield y).toDF"
   ]
  },
  {
   "cell_type": "code",
   "execution_count": 34,
   "metadata": {
    "collapsed": false
   },
   "outputs": [
    {
     "name": "stdout",
     "output_type": "stream",
     "text": [
      "+---------+----------------+---+--------+--------+--+----+-------------+---------+-----------+---+---------+-------+------------+\n",
      "|      dow|fcst_valid_local|num|max_temp|min_temp|hi|wspd|wdir_cardinal|icon_code|precip_type|pop|     city|airport|         _id|\n",
      "+---------+----------------+---+--------+--------+--+----+-------------+---------+-----------+---+---------+-------+------------+\n",
      "|  Tuesday|      2015-12-22|  2|      15|      11|15|  42|           SW|       11|       rain| 90|Amsterdam|    AMS| Amsterdam-2|\n",
      "|Wednesday|      2015-12-23|  3|      11|       7|11|  34|          WSW|       24|       rain| 20|Amsterdam|    AMS| Amsterdam-3|\n",
      "| Thursday|      2015-12-24|  4|      12|       7|12|  39|            S|       11|       rain| 60|Amsterdam|    AMS| Amsterdam-4|\n",
      "|   Friday|      2015-12-25|  5|      10|       7|10|  28|           SW|       30|       rain| 10|Amsterdam|    AMS| Amsterdam-5|\n",
      "| Saturday|      2015-12-26|  6|      12|       7|12|  23|          SSW|       26|       rain| 20|Amsterdam|    AMS| Amsterdam-6|\n",
      "|   Sunday|      2015-12-27|  7|      11|       6|11|  20|            S|       30|       rain| 20|Amsterdam|    AMS| Amsterdam-7|\n",
      "|   Monday|      2015-12-28|  8|      10|       7|10|  22|          SSE|       32|       rain| 10|Amsterdam|    AMS| Amsterdam-8|\n",
      "|  Tuesday|      2015-12-29|  9|      10|       8|10|  24|            S|       30|       rain| 10|Amsterdam|    AMS| Amsterdam-9|\n",
      "|Wednesday|      2015-12-30| 10|      11|       8|11|  28|          SSE|       30|       rain| 10|Amsterdam|    AMS|Amsterdam-10|\n",
      "| Thursday|      2015-12-31| 11|      10|       7|10|  20|          SSE|       30|       rain| 20|Amsterdam|    AMS|Amsterdam-11|\n",
      "|  Tuesday|      2015-12-22|  2|      17|       8|16|   6|          NNW|       32|       rain|  0|   Athens|    ATH|    Athens-2|\n",
      "|Wednesday|      2015-12-23|  3|      18|       9|17|  11|          NNW|       32|       rain|  0|   Athens|    ATH|    Athens-3|\n",
      "| Thursday|      2015-12-24|  4|      19|       8|18|   6|           NW|       32|       rain|  0|   Athens|    ATH|    Athens-4|\n",
      "|   Friday|      2015-12-25|  5|      18|       9|17|   6|           SE|       32|       rain|  0|   Athens|    ATH|    Athens-5|\n",
      "| Saturday|      2015-12-26|  6|      16|       9|16|  18|            N|       32|       rain|  0|   Athens|    ATH|    Athens-6|\n",
      "|   Sunday|      2015-12-27|  7|      16|      10|16|  16|            N|       30|       rain|  0|   Athens|    ATH|    Athens-7|\n",
      "|   Monday|      2015-12-28|  8|      15|       8|15|  22|            N|       32|       rain|  0|   Athens|    ATH|    Athens-8|\n",
      "|  Tuesday|      2015-12-29|  9|      14|       7|14|  20|            N|       32|       rain|  0|   Athens|    ATH|    Athens-9|\n",
      "|Wednesday|      2015-12-30| 10|      13|       6|13|  18|            N|       32|       rain| 10|   Athens|    ATH|   Athens-10|\n",
      "| Thursday|      2015-12-31| 11|      13|       6|12|  21|            N|       30|       rain| 20|   Athens|    ATH|   Athens-11|\n",
      "+---------+----------------+---+--------+--------+--+----+-------------+---------+-----------+---+---------+-------+------------+\n",
      "\n"
     ]
    }
   ],
   "source": [
    "formatted.show"
   ]
  },
  {
   "cell_type": "code",
   "execution_count": 35,
   "metadata": {
    "collapsed": false
   },
   "outputs": [
    {
     "name": "stdout",
     "output_type": "stream",
     "text": [
      "Use dbName=parsed_weather, indexName=null, jsonstore.rdd.partitions=5, jsonstore.rdd.maxInPartition=-1, jsonstore.rdd.minInPartition=10, jsonstore.rdd.requestTimeout=100000,jsonstore.rdd.concurrentSave=-1,jsonstore.rdd.bulkSize=1\n"
     ]
    }
   ],
   "source": [
    "formatted.write.format(\"com.cloudant.spark\").option(\"cloudant.host\",\"xxx\").\n",
    "option(\"cloudant.username\", \"xxx\").\n",
    "option(\"cloudant.password\",\"xxx\").\n",
    "save(\"parsed_weather\")"
   ]
  },
  {
   "cell_type": "code",
   "execution_count": null,
   "metadata": {
    "collapsed": true
   },
   "outputs": [],
   "source": []
  }
 ],
 "metadata": {
  "kernelspec": {
   "display_name": "Scala 2.10",
   "language": "scala",
   "name": "spark"
  },
  "language_info": {
   "name": "scala"
  }
 },
 "nbformat": 4,
 "nbformat_minor": 0
}
